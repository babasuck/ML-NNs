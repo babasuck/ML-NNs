{
 "cells": [
  {
   "cell_type": "code",
   "execution_count": null,
   "metadata": {},
   "outputs": [
    {
     "data": {
      "text/plain": [
       "10"
      ]
     },
     "execution_count": 87,
     "metadata": {},
     "output_type": "execute_result"
    },
    {
     "ename": "",
     "evalue": "",
     "output_type": "error",
     "traceback": [
      "\u001b[1;31mThe Kernel crashed while executing code in the current cell or a previous cell. \n",
      "\u001b[1;31mPlease review the code in the cell(s) to identify a possible cause of the failure. \n",
      "\u001b[1;31mClick <a href='https://aka.ms/vscodeJupyterKernelCrash'>here</a> for more info. \n",
      "\u001b[1;31mView Jupyter <a href='command:jupyter.viewOutput'>log</a> for further details."
     ]
    }
   ],
   "source": [
    "def x_powered(x: float = 1, n: int = 1) -> float:\n",
    "    acc = 1\n",
    "    for i in range(abs(n)):\n",
    "        acc *= x\n",
    "    return acc if n % 2 == 0 or n > 0 else -acc\n",
    "\n",
    "x_powered(10, 1)"
   ]
  },
  {
   "cell_type": "code",
   "execution_count": 9,
   "metadata": {},
   "outputs": [
    {
     "data": {
      "text/plain": [
       "8"
      ]
     },
     "execution_count": 9,
     "metadata": {},
     "output_type": "execute_result"
    }
   ],
   "source": [
    "def max_list(list_of_numbers: list = []) -> float:\n",
    "    max = list_of_numbers[0]\n",
    "    for el in list_of_numbers:\n",
    "        if el > max:\n",
    "            max = el\n",
    "    return max\n",
    "\n",
    "max_list([5, 6, 2, 1, 2, 8])"
   ]
  },
  {
   "cell_type": "code",
   "execution_count": 67,
   "metadata": {},
   "outputs": [
    {
     "data": {
      "text/plain": [
       "[0, 1, 1, 0]"
      ]
     },
     "execution_count": 67,
     "metadata": {},
     "output_type": "execute_result"
    }
   ],
   "source": [
    "def n_row_pascal_triangle(n: int = 0) -> list:\n",
    "    base = [0, 1, 0]\n",
    "    for i in range(n - 1):\n",
    "        base = [sum(x) for x in zip([0] + base, base + [0])]\n",
    "    return base\n",
    "\t\t\t\n",
    "\t\n",
    "n_row_pascal_triangle(2)"
   ]
  },
  {
   "cell_type": "code",
   "execution_count": 17,
   "metadata": {},
   "outputs": [
    {
     "data": {
      "text/plain": [
       "[-1, 1, 2, 3, 5, 10]"
      ]
     },
     "execution_count": 17,
     "metadata": {},
     "output_type": "execute_result"
    }
   ],
   "source": [
    "def sort_list(lst: list = None) -> list:\n",
    "    for i in range(len(lst)):\n",
    "        for j in range(i + 1, len(lst)):\n",
    "            if lst[i] > lst[j]:\n",
    "                lst[i], lst[j] = lst[j], lst[i]\n",
    "    return lst\n",
    "\n",
    "sort_list([5, 3, 2, 10, 1, -1])"
   ]
  },
  {
   "cell_type": "code",
   "execution_count": 27,
   "metadata": {},
   "outputs": [],
   "source": [
    "class NeuralNetwork():\n",
    "    def __init__(self, weight: int = 1, nick: str = None):\n",
    "        self.weight = weight\n",
    "        self.nick = nick\n",
    "\n",
    "    # Реализуйте метод, который будет умножать каждое число списка data умножать на коэффициент self.weight, после чего сохранять его в модели как атрибут \n",
    "    def forward(self, data: list = None) -> None:\n",
    "        self.data = list(map(lambda x: x * self.weight, data))\n",
    "\n",
    "    def backward(self, loss: float = 6e-3) -> list:\n",
    "        return list(map(lambda x: x / loss, self.data))\n",
    "    # Поделите каждый элемент выхода с forward на коэффициент loss, и верните результирующий список"
   ]
  },
  {
   "cell_type": "code",
   "execution_count": 37,
   "metadata": {},
   "outputs": [
    {
     "name": "stdout",
     "output_type": "stream",
     "text": [
      "[5.915057353837753]\n"
     ]
    }
   ],
   "source": [
    "import numpy as np\n",
    "\n",
    "nn = NeuralNetwork(weight = 3, nick = \"doggy\")\n",
    "data = np.random.rand(100, 1)[0]\n",
    "\n",
    "nn.forward(data)\n",
    "loss = np.random.rand(1)[0]\n",
    "\n",
    "prediction = nn.backward(loss)\n",
    "\n",
    "print(prediction)"
   ]
  }
 ],
 "metadata": {
  "kernelspec": {
   "display_name": ".venv",
   "language": "python",
   "name": "python3"
  },
  "language_info": {
   "codemirror_mode": {
    "name": "ipython",
    "version": 3
   },
   "file_extension": ".py",
   "mimetype": "text/x-python",
   "name": "python",
   "nbconvert_exporter": "python",
   "pygments_lexer": "ipython3",
   "version": "3.11.8"
  }
 },
 "nbformat": 4,
 "nbformat_minor": 2
}
