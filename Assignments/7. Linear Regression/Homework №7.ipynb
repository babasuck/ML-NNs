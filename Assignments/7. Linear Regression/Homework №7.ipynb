{
 "cells": [
  {
   "cell_type": "markdown",
   "id": "aca8ce09",
   "metadata": {},
   "source": [
    "# Анализ датасета Diabetes с использованием различных моделей машинного обучения"
   ]
  },
  {
   "cell_type": "markdown",
   "id": "9725b651",
   "metadata": {},
   "source": [
    "## 1. Подготовка данных\n",
    "\n",
    "Загрузим датасет Diabetes и подготовим данные для анализа."
   ]
  },
  {
   "cell_type": "code",
   "execution_count": null,
   "id": "b4ab0868",
   "metadata": {},
   "outputs": [],
   "source": [
    "import numpy as np\n",
    "import matplotlib.pyplot as plt\n",
    "from sklearn.datasets import load_diabetes\n",
    "from sklearn.model_selection import train_test_split\n",
    "from sklearn.preprocessing import StandardScaler\n",
    "\n",
    "# Загрузка данных\n",
    "diabetes = load_diabetes()\n",
    "X, y = diabetes.data, diabetes.target\n",
    "\n",
    "# TODO: Разделите данные на обучающую и тестовую выборки\n",
    "# Подсказка: Используйте train_test_split из sklearn.model_selection\n",
    "# X_train, X_test, y_train, y_test = ...\n",
    "\n",
    "# TODO: Выполните стандартизацию признаков\n",
    "# Подсказка: Используйте StandardScaler\n",
    "# scaler = ...\n",
    "# X_train_scaled = ...\n",
    "# X_test_scaled = ..."
   ]
  },
  {
   "cell_type": "markdown",
   "id": "38d01de6",
   "metadata": {},
   "source": [
    "# Линейная регрессия"
   ]
  },
  {
   "cell_type": "code",
   "execution_count": null,
   "id": "004b1bae",
   "metadata": {},
   "outputs": [],
   "source": [
    "from sklearn.linear_model import LinearRegression\n",
    "from sklearn.metrics import r2_score, mean_squared_error\n",
    "\n",
    "# TODO: Создайте и обучите модель линейной регрессии\n",
    "# Подсказка: Используйте LinearRegression\n",
    "# lr_model = ...\n",
    "# lr_model.fit(...)\n",
    "\n",
    "# TODO: Сделайте предсказания и оцените качество модели\n",
    "# lr_pred = ...\n",
    "# lr_r2 = ...\n",
    "# lr_mse = ...\n",
    "\n",
    "print(\"Линейная регрессия:\")\n",
    "print(f\"R^2: {lr_r2:.4f}\")\n",
    "print(f\"MSE: {lr_mse:.4f}\")"
   ]
  },
  {
   "cell_type": "markdown",
   "id": "050857d4",
   "metadata": {},
   "source": [
    "# Логистическая регрессия"
   ]
  },
  {
   "cell_type": "code",
   "execution_count": null,
   "id": "60a51205",
   "metadata": {},
   "outputs": [],
   "source": [
    "from sklearn.linear_model import LogisticRegression\n",
    "from sklearn.metrics import accuracy_score, roc_auc_score\n",
    "\n",
    "# Преобразование задачи в задачу классификации\n",
    "y_binary = (y > np.median(y)).astype(int)\n",
    "y_train_binary = (y_train > np.median(y_train)).astype(int)\n",
    "y_test_binary = (y_test > np.median(y_test)).astype(int)\n",
    "\n",
    "# TODO: Создайте и обучите модель логистической регрессии\n",
    "# Подсказка: Используйте LogisticRegression\n",
    "# log_model = ...\n",
    "# log_model.fit(...)\n",
    "\n",
    "# TODO: Сделайте предсказания и оцените качество модели\n",
    "# log_pred = ...\n",
    "# log_accuracy = ...\n",
    "# log_proba = ...\n",
    "# log_auc = ...\n",
    "\n",
    "print(\"\\nЛогистическая регрессия:\")\n",
    "print(f\"Accuracy: {log_accuracy:.4f}\")\n",
    "print(f\"AUC: {log_auc:.4f}\")"
   ]
  },
  {
   "cell_type": "markdown",
   "id": "49276b66",
   "metadata": {},
   "source": [
    "### Отбор важных признаков"
   ]
  },
  {
   "cell_type": "code",
   "execution_count": null,
   "id": "6583031c",
   "metadata": {},
   "outputs": [],
   "source": [
    "from sklearn.feature_selection import RFE\n",
    "\n",
    "# TODO: Выполните отбор важных признаков\n",
    "# Подсказка: Используйте RFE с LogisticRegression в качестве estimator\n",
    "# rfe = ...\n",
    "# rfe.fit(...)\n",
    "# X_train_rfe = ...\n",
    "# X_test_rfe = ...\n",
    "\n",
    "# TODO: Обучите логистическую регрессию на отобранных признаках\n",
    "# log_model_rfe = ...\n",
    "# log_model_rfe.fit(...)\n",
    "\n",
    "# TODO: Оцените качество модели на отобранных признаках\n",
    "# log_pred_rfe = ...\n",
    "# log_accuracy_rfe = ...\n",
    "# log_proba_rfe = ...\n",
    "# log_auc_rfe = ...\n",
    "\n",
    "print(\"\\nЛогистическая регрессия (отобранные признаки):\")\n",
    "print(f\"Accuracy: {log_accuracy_rfe:.4f}\")\n",
    "print(f\"AUC: {log_auc_rfe:.4f}\")"
   ]
  },
  {
   "cell_type": "markdown",
   "id": "ca5a4a9d",
   "metadata": {},
   "source": [
    "# Метод опорных векторов (SVM)"
   ]
  },
  {
   "cell_type": "code",
   "execution_count": null,
   "id": "ea17e486",
   "metadata": {},
   "outputs": [],
   "source": [
    "from sklearn.svm import SVC\n",
    "\n",
    "# TODO: Создайте и обучите SVM с линейным ядром\n",
    "# Подсказка: Используйте SVC с kernel='linear'\n",
    "# svm_linear = ...\n",
    "# svm_linear.fit(...)\n",
    "\n",
    "# TODO: Оцените качество модели SVM с линейным ядром\n",
    "# svm_linear_pred = ...\n",
    "# svm_linear_accuracy = ...\n",
    "# svm_linear_proba = ...\n",
    "# svm_linear_auc = ...\n",
    "\n",
    "print(\"\\nSVM с линейным ядром:\")\n",
    "print(f\"Accuracy: {svm_linear_accuracy:.4f}\")\n",
    "print(f\"AUC: {svm_linear_auc:.4f}\")\n",
    "\n",
    "# TODO: Создайте и обучите SVM с квадратичным ядром\n",
    "# Подсказка: Используйте SVC с kernel='poly' и degree=2\n",
    "# svm_poly = ...\n",
    "# svm_poly.fit(...)\n",
    "\n",
    "# TODO: Оцените качество модели SVM с квадратичным ядром\n",
    "# svm_poly_pred = ...\n",
    "# svm_poly_accuracy = ...\n",
    "# svm_poly_proba = ...\n",
    "# svm_poly_auc = ...\n",
    "\n",
    "print(\"\\nSVM с квадратичным ядром:\")\n",
    "print(f\"Accuracy: {svm_poly_accuracy:.4f}\")\n",
    "print(f\"AUC: {svm_poly_auc:.4f}\")"
   ]
  },
  {
   "cell_type": "markdown",
   "id": "a3e8339a",
   "metadata": {},
   "source": [
    "# Визуализация результатов"
   ]
  },
  {
   "cell_type": "markdown",
   "id": "7d87bf2d",
   "metadata": {},
   "source": [
    "### ROC-кривые\n",
    "Построим ROC-кривые для сравнения эффективности моделей."
   ]
  },
  {
   "cell_type": "code",
   "execution_count": null,
   "id": "8b2922f5",
   "metadata": {},
   "outputs": [],
   "source": [
    "from sklearn.metrics import roc_curve\n",
    "\n",
    "# TODO: Постройте ROC-кривые для логистической регрессии и обеих моделей SVM\n",
    "# Подсказка: Используйте roc_curve для вычисления false positive rate и true positive rate\n",
    "\n",
    "plt.figure(figsize=(10, 6))\n",
    "# Ваш код здесь для построения ROC-кривых\n",
    "\n",
    "plt.plot([0, 1], [0, 1], linestyle='--')\n",
    "plt.xlabel('False Positive Rate')\n",
    "plt.ylabel('True Positive Rate')\n",
    "plt.title('ROC-кривые')\n",
    "plt.legend()\n",
    "plt.show()"
   ]
  },
  {
   "cell_type": "markdown",
   "id": "d62f09fe",
   "metadata": {},
   "source": [
    "### Разделяющие кривые\n",
    "Визуализируем разделяющие кривые для SVM с линейным и квадратичным ядром."
   ]
  },
  {
   "cell_type": "code",
   "execution_count": null,
   "id": "77595be8",
   "metadata": {},
   "outputs": [],
   "source": [
    "# Функция для визуализации разделяющей кривой\n",
    "def plot_decision_boundary(model, X, y, title):\n",
    "    x_min, x_max = X[:, 0].min() - 0.5, X[:, 0].max() + 0.5\n",
    "    y_min, y_max = X[:, 1].min() - 0.5, X[:, 1].max() + 0.5\n",
    "    xx, yy = np.meshgrid(np.arange(x_min, x_max, 0.02),\n",
    "                         np.arange(y_min, y_max, 0.02))\n",
    "    Z = model.predict(np.c_[xx.ravel(), yy.ravel()])\n",
    "    Z = Z.reshape(xx.shape)\n",
    "    plt.figure(figsize=(10, 6))\n",
    "    plt.contourf(xx, yy, Z, alpha=0.4)\n",
    "    plt.scatter(X[:, 0], X[:, 1], c=y, alpha=0.8)\n",
    "    plt.xlabel('Признак 1')\n",
    "    plt.ylabel('Признак 2')\n",
    "    plt.title(title)\n",
    "    plt.show()\n",
    "\n",
    "# Визуализация разделяющих кривых для SVM\n",
    "X_vis = X_train_scaled[:, :2]  # Используем только первые два признака для визуализации\n",
    "y_vis = y_train_binary\n",
    "\n",
    "# TODO: Создайте и обучите SVM с линейным ядром на X_vis и y_vis\n",
    "# svm_linear_vis = ...\n",
    "# svm_linear_vis.fit(...)\n",
    "\n",
    "# TODO: Визуализируйте разделяющую кривую для SVM с линейным ядром\n",
    "# plot_decision_boundary(...)\n",
    "\n",
    "# TODO: Создайте и обучите SVM с квадратичным ядром на X_vis и y_vis\n",
    "# svm_poly_vis = ...\n",
    "# svm_poly_vis.fit(...)\n",
    "\n",
    "# TODO: Визуализируйте разделяющую кривую для SVM с квадратичным ядром\n",
    "# plot_decision_boundary(...)"
   ]
  },
  {
   "cell_type": "markdown",
   "id": "6fd12bdb",
   "metadata": {},
   "source": [
    "#  Важность признаков"
   ]
  },
  {
   "cell_type": "code",
   "execution_count": null,
   "id": "19cf17a0",
   "metadata": {},
   "outputs": [],
   "source": [
    "# TODO: Получите коэффициенты важности признаков из модели логистической регрессии\n",
    "# feature_importance = ...\n",
    "feature_names = diabetes.feature_names\n",
    "sorted_idx = np.argsort(feature_importance)\n",
    "pos = np.arange(sorted_idx.shape[0]) + .5\n",
    "\n",
    "plt.figure(figsize=(12, 6))\n",
    "plt.barh(pos, feature_importance[sorted_idx], align='center')\n",
    "plt.yticks(pos, np.array(feature_names)[sorted_idx])\n",
    "plt.xlabel('Важность признака')\n",
    "plt.title('Важность признаков (Логистическая регрессия)')\n",
    "plt.show()"
   ]
  }
 ],
 "metadata": {
  "kernelspec": {
   "display_name": "Python 3 (ipykernel)",
   "language": "python",
   "name": "python3"
  },
  "language_info": {
   "codemirror_mode": {
    "name": "ipython",
    "version": 3
   },
   "file_extension": ".py",
   "mimetype": "text/x-python",
   "name": "python",
   "nbconvert_exporter": "python",
   "pygments_lexer": "ipython3",
   "version": "3.10.12"
  }
 },
 "nbformat": 4,
 "nbformat_minor": 5
}
