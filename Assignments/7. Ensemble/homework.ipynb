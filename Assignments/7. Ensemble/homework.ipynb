{
  "cells": [
    {
      "cell_type": "markdown",
      "metadata": {},
      "source": [
        "##### 1. Откройте датасет и проведите обработку данных"
      ]
    },
    {
      "cell_type": "code",
      "execution_count": 105,
      "metadata": {
        "id": "2dp-PSyniYLO"
      },
      "outputs": [],
      "source": [
        "import pandas as pd\n",
        "\n",
        "data = pd.read_csv('data/train.csv').dropna()\n",
        "\n",
        "X = data.drop(['PassengerId', 'Name', 'Transported'], axis=1)\n",
        "y = data['Transported'].astype(int)\n",
        "\n",
        "# Проведите обработку категориальных данных\n",
        "categorical_cols = ['HomePlanet', 'CryoSleep', 'Cabin', 'Destination', 'VIP']\n",
        "\n",
        "# Проведите нормализацию числовых данных\n",
        "numeric_cols = ['Age', 'RoomService', 'FoodCourt', 'ShoppingMall', 'Spa', 'VRDeck']"
      ]
    },
    {
      "cell_type": "markdown",
      "metadata": {
        "id": "4IkC3KJzFzMq"
      },
      "source": [
        "##### 2. Постройте дерево решений. Вычислите метрики: accuracy, f1"
      ]
    },
    {
      "cell_type": "code",
      "execution_count": null,
      "metadata": {
        "colab": {
          "base_uri": "https://localhost:8080/",
          "height": 1000
        },
        "id": "m4bF_qRCm85X",
        "outputId": "f238d6dc-d903-41b8-e4a0-51f3576f30c1"
      },
      "outputs": [],
      "source": [
        "# Место для вашего кода :)"
      ]
    },
    {
      "cell_type": "markdown",
      "metadata": {
        "id": "V8aj2tUwF7Ve"
      },
      "source": [
        "##### 3. Примените метод случайного леса. Вычислите значимость переменных."
      ]
    },
    {
      "cell_type": "code",
      "execution_count": 113,
      "metadata": {
        "id": "p-FuV3n7F683"
      },
      "outputs": [],
      "source": [
        " # Место для вашего кода :)"
      ]
    },
    {
      "cell_type": "markdown",
      "metadata": {},
      "source": [
        "##### 4.1 Визуализируйте зависимость качества решения от числа деревьев для случайного леса."
      ]
    },
    {
      "cell_type": "code",
      "execution_count": null,
      "metadata": {},
      "outputs": [],
      "source": [
        "# Место для вашего кода :)"
      ]
    },
    {
      "cell_type": "markdown",
      "metadata": {},
      "source": [
        "##### 4.2 Постройте несколько зависимостей качества решения от числа деревьев для разной глубины дерева."
      ]
    },
    {
      "cell_type": "code",
      "execution_count": null,
      "metadata": {},
      "outputs": [],
      "source": [
        "# Место для вашего кода :)"
      ]
    },
    {
      "cell_type": "markdown",
      "metadata": {},
      "source": [
        "##### 5. Выполните пункт 4.2 для градиентого бустинга."
      ]
    },
    {
      "cell_type": "code",
      "execution_count": null,
      "metadata": {},
      "outputs": [],
      "source": [
        "# Место для вашего кода :)"
      ]
    }
  ],
  "metadata": {
    "colab": {
      "provenance": []
    },
    "kernelspec": {
      "display_name": "Python 3",
      "name": "python3"
    },
    "language_info": {
      "name": "python"
    }
  },
  "nbformat": 4,
  "nbformat_minor": 0
}
