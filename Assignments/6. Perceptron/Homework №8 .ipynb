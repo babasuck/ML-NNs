{
 "cells": [
  {
   "cell_type": "markdown",
   "id": "09e86c20",
   "metadata": {},
   "source": [
    "### Задача XOR"
   ]
  },
  {
   "cell_type": "markdown",
   "id": "953523e1",
   "metadata": {},
   "source": [
    "# Задача: Реализация нейронной сети для решения проблемы XOR\n",
    "\n",
    "## Введение\n",
    "\n",
    "XOR (исключающее ИЛИ) - это логическая операция, которая возвращает истину только если входные значения различны. Таблица истинности для XOR:\n",
    "\n",
    "| A | B | A XOR B |\n",
    "|:-:|:-:|:-------:|\n",
    "| 0 | 0 |    0    |\n",
    "| 0 | 1 |    1    |\n",
    "| 1 | 0 |    1    |\n",
    "| 1 | 1 |    0    |\n",
    "\n",
    "Эта задача не может быть решена с помощью линейной модели, поэтому она часто используется для демонстрации возможностей нейронных сетей.\n",
    "\n",
    "## Задание\n",
    "\n",
    "Ваша задача - реализовать двухслойную нейронную сеть для решения проблемы XOR. \n",
    "\n",
    "### Архитектура сети:\n",
    "\n",
    "- Входной слой: 2 нейрона (для A и B)\n",
    "- Скрытый слой: 4 нейрона\n",
    "- Выходной слой: 1 нейрон\n",
    "\n",
    "![Архитектура нейронной сети для XOR](Tutorial-And.jpg)\n",
    "\n",
    "## Инструкции:\n",
    "\n",
    "1. Изучите предоставленный код класса `NeuralNetwork`.\n",
    "2. Заполните все места, отмеченные `TODO`, используя предоставленные подсказки.\n",
    "3. Используйте функции NumPy (`np.dot`, `np.random.uniform`, `np.sum`) для выполнения необходимых вычислений.\n",
    "4. Реализуйте прямое и обратное распространение, а также обновление весов.\n",
    "5. Обучите сеть на предоставленных данных XOR.\n",
    "6. Протестируйте сеть и выведите результаты."
   ]
  },
  {
   "cell_type": "code",
   "execution_count": 4,
   "id": "274ade8a",
   "metadata": {},
   "outputs": [],
   "source": [
    "import numpy as np"
   ]
  },
  {
   "cell_type": "code",
   "execution_count": 9,
   "id": "25c459f9",
   "metadata": {},
   "outputs": [
    {
     "ename": "IndentationError",
     "evalue": "expected an indented block after function definition on line 14 (1336992165.py, line 17)",
     "output_type": "error",
     "traceback": [
      "\u001b[0;36m  Cell \u001b[0;32mIn[9], line 17\u001b[0;36m\u001b[0m\n\u001b[0;31m    def sigmoid_derivative(self, x):\u001b[0m\n\u001b[0m    ^\u001b[0m\n\u001b[0;31mIndentationError\u001b[0m\u001b[0;31m:\u001b[0m expected an indented block after function definition on line 14\n"
     ]
    }
   ],
   "source": [
    "#Класс нейронной сети с одним скрытым слоем \n",
    "class NeuralNetwork:\n",
    "    def __init__(self, input_size, hidden_size, output_size):\n",
    "        self.input_size = input_size\n",
    "        self.hidden_size = hidden_size\n",
    "        self.output_size = output_size\n",
    "        \n",
    "        # Инициализация весов и смещений\n",
    "        self.hidden_weights = np.random.uniform(size=(input_size, hidden_size))\n",
    "        self.hidden_bias = np.random.uniform(size=(1, hidden_size))\n",
    "        self.output_weights = np.random.uniform(size=(hidden_size, output_size))\n",
    "        self.output_bias = np.random.uniform(size=(1, output_size))\n",
    "    \n",
    "    def sigmoid(self, x):\n",
    "        #TODO\n",
    "    \n",
    "    def sigmoid_derivative(self, x):\n",
    "        #TODO\n",
    "    \n",
    "    def forward(self, X):\n",
    "        # Подсказка: Используйте np.dot для умножения матриц\n",
    "        # np.dot вычисляет произведение двух массивов\n",
    "        # Не забудте использовать сигмоиду для нелинейности и прибавлять смещения \n",
    "        self.hidden_layer = #TODO\n",
    "        self.output_layer = #TODO\n",
    "        return self.output_layer\n",
    "    \n",
    "    def backward(self, X, y, output):\n",
    "        error = y - output\n",
    "        d_output = error * self.sigmoid_derivative(output)\n",
    "        error_hidden_layer = np.dot(d_output, self.output_weights.T)\n",
    "        d_hidden_layer = error_hidden_layer * self.sigmoid_derivative(self.hidden_layer)\n",
    "        \n",
    "        # TODO: Обновление весов и смещений\n",
    "        # Подсказки:\n",
    "        # 1. Используйте самообучение (градиентный спуск) для обновления весов и смещений\n",
    "        # 2. Обновите веса и смещения для выходного слоя:\n",
    "        #    - Используйте np.dot для умножения транспонированной матрицы скрытого слоя (self.hidden_layer.T) на d_output\n",
    "        #    - Не забудьте умножить результат на self.learning_rate\n",
    "        #    - Для смещений используйте np.sum по d_output, установите keepdims=True\n",
    "        # 3. Обновите веса и смещения для скрытого слоя:\n",
    "        #    - Используйте np.dot для умножения транспонированной матрицы входных данных (X.T) на d_hidden_layer\n",
    "        #    - Не забудьте умножить результат на self.learning_rate\n",
    "        #    - Для смещений используйте np.sum по d_hidden_layer, установите keepdims=True\n",
    "        # 4. Операция '+=' означает, что мы прибавляем вычисленные изменения к текущим значениям весов и смещений\n",
    "        # 5. Порядок обновления: сначала выходной слой, затем скрытый\n",
    "        #\n",
    "        # Структура обновления:\n",
    "        # self.output_weights += ...\n",
    "        # self.output_bias += ...\n",
    "        # self.hidden_weights += ...\n",
    "        # self.hidden_bias += ...\n",
    "        #\n",
    "        # Совет: Убедитесь, что размерности матриц совпадают при выполнении операций\n",
    "    \n",
    "    def train(self, X, y, epochs, learning_rate):\n",
    "        self.learning_rate = learning_rate\n",
    "        for _ in range(epochs):\n",
    "            output = self.forward(X)\n",
    "            self.backward(X, y, output)\n",
    "    \n",
    "    def predict(self, X):\n",
    "        return self.forward(X)"
   ]
  },
  {
   "cell_type": "code",
   "execution_count": 10,
   "id": "a3cec421",
   "metadata": {},
   "outputs": [],
   "source": [
    "# Наш \"датасет\" для обучения \n",
    "X = np.array([[0, 0], [0, 1], [1, 0], [1, 1]])\n",
    "y = np.array([[0], [1], [1], [0]])\n"
   ]
  },
  {
   "cell_type": "code",
   "execution_count": 7,
   "id": "1744a778",
   "metadata": {},
   "outputs": [],
   "source": [
    "# Инициализация нейронной сети\n",
    "nn = NeuralNetwork(input_size=2, hidden_size=4, output_size=1)\n",
    "#Цикл обучения \n",
    "nn.train(X, y, epochs=10000, learning_rate=0.1)"
   ]
  },
  {
   "cell_type": "code",
   "execution_count": 8,
   "id": "0114af1f",
   "metadata": {},
   "outputs": [
    {
     "name": "stdout",
     "output_type": "stream",
     "text": [
      "Выходные данные после обучения:\n",
      "[[0.04662167]\n",
      " [0.94110836]\n",
      " [0.9594807 ]\n",
      " [0.05602964]]\n",
      "\n",
      "Точность: 100.0%\n"
     ]
    }
   ],
   "source": [
    "predictions = nn.predict(X)\n",
    "print(\"Выходные данные после обучения:\")\n",
    "print(predictions)\n",
    "\n",
    "# Подсказка: Используйте np.mean для вычисления среднего значения\n",
    "# np.mean вычисляет среднее арифметическое элементов массива\n",
    "accuracy = #TODO\n",
    "print(f\"\\nТочность: {accuracy * 100}%\")"
   ]
  },
  {
   "cell_type": "code",
   "execution_count": null,
   "id": "d97456f1",
   "metadata": {},
   "outputs": [],
   "source": []
  }
 ],
 "metadata": {
  "kernelspec": {
   "display_name": "Python 3 (ipykernel)",
   "language": "python",
   "name": "python3"
  },
  "language_info": {
   "codemirror_mode": {
    "name": "ipython",
    "version": 3
   },
   "file_extension": ".py",
   "mimetype": "text/x-python",
   "name": "python",
   "nbconvert_exporter": "python",
   "pygments_lexer": "ipython3",
   "version": "3.10.12"
  }
 },
 "nbformat": 4,
 "nbformat_minor": 5
}
