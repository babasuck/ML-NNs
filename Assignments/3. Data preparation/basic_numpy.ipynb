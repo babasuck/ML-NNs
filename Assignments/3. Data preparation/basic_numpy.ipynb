{
 "cells": [
  {
   "cell_type": "markdown",
   "metadata": {},
   "source": [
    "##### 1. Создайте одномерный массив из чисел от 1 до 10. Затем преобразуйте его в двумерный массив 2x5. Найдите сумму всех элементов массива, а также среднее арифметическое."
   ]
  },
  {
   "cell_type": "code",
   "execution_count": null,
   "metadata": {
    "vscode": {
     "languageId": "plaintext"
    }
   },
   "outputs": [],
   "source": [
    "# Место для вашего кода :)"
   ]
  },
  {
   "cell_type": "markdown",
   "metadata": {},
   "source": [
    "##### 2. Создайте матрицу размером 5x5, содержащую числа от 1 до 25. Извлеките из неё:\n",
    "1. Первый столбец\n",
    "2. Последние три элемента второй строки\n",
    "3. Центральный элемент массива"
   ]
  },
  {
   "cell_type": "code",
   "execution_count": null,
   "metadata": {
    "vscode": {
     "languageId": "plaintext"
    }
   },
   "outputs": [],
   "source": [
    "# Место для вашего кода :)"
   ]
  },
  {
   "cell_type": "markdown",
   "metadata": {},
   "source": [
    "##### 3. Создайте массив из 20 случайных чисел. Найдите:\n",
    "1. Минимальное и максимальное значения\n",
    "2. Медиану\n",
    "3. Стандартное отклонение"
   ]
  },
  {
   "cell_type": "code",
   "execution_count": null,
   "metadata": {
    "vscode": {
     "languageId": "plaintext"
    }
   },
   "outputs": [],
   "source": [
    "# Место для вашего кода :)"
   ]
  },
  {
   "cell_type": "markdown",
   "metadata": {},
   "source": [
    "##### 4. Создайте массив случайных чисел от 0 до 100 (10 элементов). Определите, какие из них чётные. Замените все нечётные элементы на 0."
   ]
  },
  {
   "cell_type": "code",
   "execution_count": null,
   "metadata": {
    "vscode": {
     "languageId": "plaintext"
    }
   },
   "outputs": [],
   "source": [
    "# Место для вашего кода :)"
   ]
  },
  {
   "cell_type": "markdown",
   "metadata": {},
   "source": [
    "##### 5.1 Создайте матрицу произвольного размера. \n",
    "1. Найдите транспонированную матрицу.\n",
    "2. Найдите обратную матрицу, если это возможно.\n",
    "3. Найдите собственные значения и собственные вектора."
   ]
  },
  {
   "cell_type": "code",
   "execution_count": null,
   "metadata": {
    "vscode": {
     "languageId": "plaintext"
    }
   },
   "outputs": [],
   "source": [
    "# Место для вашего кода :)"
   ]
  },
  {
   "cell_type": "markdown",
   "metadata": {},
   "source": [
    "##### 5.2 Создайте две матрицы 4x4, заполненные случайными числами. Выполните следующие операции:\n",
    "\n",
    "1. Найдите их матричное произведение.\n",
    "2. Объедините две матрицы в тензор/в одну матрицу 4x8."
   ]
  },
  {
   "cell_type": "code",
   "execution_count": null,
   "metadata": {
    "vscode": {
     "languageId": "plaintext"
    }
   },
   "outputs": [],
   "source": [
    "# Место для вашего кода :)"
   ]
  },
  {
   "cell_type": "markdown",
   "metadata": {},
   "source": [
    "##### 6. Создайте трёхмерный массив размером 3x3x3, заполненный случайными числами. Выполните следующие операции:\n",
    "1. Найдите сумму элементов по каждой оси.\n",
    "2. Найдите минимальный элемент для каждого слоя.\n",
    "3. Отсортируйте каждый слой по возрастанию."
   ]
  },
  {
   "cell_type": "code",
   "execution_count": null,
   "metadata": {
    "vscode": {
     "languageId": "plaintext"
    }
   },
   "outputs": [],
   "source": [
    "# Место для вашего кода :)"
   ]
  },
  {
   "cell_type": "markdown",
   "metadata": {},
   "source": [
    "##### 7. Сгенерируйте набор данных из 100 случайных точек в 3D-пространстве. Выполните их нормализацию (приведите к единичному масштабу) по каждой оси."
   ]
  },
  {
   "cell_type": "code",
   "execution_count": null,
   "metadata": {
    "vscode": {
     "languageId": "plaintext"
    }
   },
   "outputs": [],
   "source": [
    "# Место для вашего кода :)"
   ]
  },
  {
   "cell_type": "markdown",
   "metadata": {},
   "source": [
    "##### 8*. Загрузите любое изображение (в рамках приличия, конечно) и сожмите его с помощью сингулярного разложения (SVD). Выберете разное количество сингулярных значений и сравните полученный результат с оригиналом."
   ]
  },
  {
   "cell_type": "code",
   "execution_count": null,
   "metadata": {
    "vscode": {
     "languageId": "plaintext"
    }
   },
   "outputs": [],
   "source": [
    "# Место для вашего кода :)"
   ]
  }
 ],
 "metadata": {
  "language_info": {
   "name": "python"
  }
 },
 "nbformat": 4,
 "nbformat_minor": 2
}
